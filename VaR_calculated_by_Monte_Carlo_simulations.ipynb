{
  "cells": [
    {
      "cell_type": "markdown",
      "id": "2a076edc-f3f2-46a1-b29b-27f5b690a318",
      "metadata": {
        "id": "2a076edc-f3f2-46a1-b29b-27f5b690a318"
      },
      "source": [
        "# Application of Monte Carlo Simulations to Calculate VaR"
      ]
    },
    {
      "cell_type": "markdown",
      "id": "cd7d9178-5fcd-4b28-8236-15f2f78e40f8",
      "metadata": {
        "id": "cd7d9178-5fcd-4b28-8236-15f2f78e40f8"
      },
      "source": [
        "#### Importing Libraries"
      ]
    },
    {
      "cell_type": "code",
      "execution_count": null,
      "id": "79faea8d-5f4f-4552-bf19-df517440898b",
      "metadata": {
        "id": "79faea8d-5f4f-4552-bf19-df517440898b",
        "outputId": "59f2b312-cc6d-4fa0-af78-bcc95362dd70"
      },
      "outputs": [
        {
          "name": "stderr",
          "output_type": "stream",
          "text": [
            "C:\\Users\\princ\\AppData\\Local\\Temp\\ipykernel_3052\\1271272703.py:2: DeprecationWarning: \n",
            "Pyarrow will become a required dependency of pandas in the next major release of pandas (pandas 3.0),\n",
            "(to allow more performant data types, such as the Arrow string type, and better interoperability with other libraries)\n",
            "but was not found to be installed on your system.\n",
            "If this would cause problems for you,\n",
            "please provide us feedback at https://github.com/pandas-dev/pandas/issues/54466\n",
            "        \n",
            "  import pandas as pd\n"
          ]
        }
      ],
      "source": [
        "import numpy as np\n",
        "import pandas as pd\n",
        "import datetime as dt\n",
        "import yfinance as yf\n",
        "import matplotlib.pyplot as plt\n",
        "from scipy.stats import norm"
      ]
    },
    {
      "cell_type": "markdown",
      "id": "4fd20b24-61b0-4257-aa45-4d7d66c46b45",
      "metadata": {
        "id": "4fd20b24-61b0-4257-aa45-4d7d66c46b45"
      },
      "source": [
        "#### Setting Time Range and Ticker List"
      ]
    },
    {
      "cell_type": "code",
      "execution_count": null,
      "id": "12b53d18-19aa-4482-87a0-552f22f0b34a",
      "metadata": {
        "id": "12b53d18-19aa-4482-87a0-552f22f0b34a"
      },
      "outputs": [],
      "source": [
        "years = 15\n",
        "\n",
        "endDate = dt.datetime.now()\n",
        "startDate = endDate - dt.timedelta(days = 365*years)\n",
        "\n",
        "\n",
        "tickers = ['SPY','BND','GLD','QQQ','VTI']"
      ]
    },
    {
      "cell_type": "markdown",
      "id": "22c1d9d5-110e-44fa-a88f-db3449fef4dc",
      "metadata": {
        "id": "22c1d9d5-110e-44fa-a88f-db3449fef4dc"
      },
      "source": [
        "#### Downloading Adjusted Close Prices"
      ]
    },
    {
      "cell_type": "code",
      "execution_count": null,
      "id": "a0fe0311-6ca6-4833-9997-5e6b72e2f532",
      "metadata": {
        "id": "a0fe0311-6ca6-4833-9997-5e6b72e2f532",
        "outputId": "06b99c8e-465d-4ee7-ef2b-7fb95e9fcae8"
      },
      "outputs": [
        {
          "name": "stderr",
          "output_type": "stream",
          "text": [
            "[*********************100%%**********************]  1 of 1 completed\n",
            "[*********************100%%**********************]  1 of 1 completed\n",
            "[*********************100%%**********************]  1 of 1 completed\n",
            "[*********************100%%**********************]  1 of 1 completed\n",
            "[*********************100%%**********************]  1 of 1 completed"
          ]
        },
        {
          "name": "stdout",
          "output_type": "stream",
          "text": [
            "                   SPY        BND         GLD         QQQ         VTI\n",
            "Date                                                                 \n",
            "2009-03-06   51.787926  49.502071   92.290001   22.981503   25.791931\n",
            "2009-03-09   51.179276  49.320179   90.570000   22.492159   25.481903\n",
            "2009-03-10   54.230045  49.372143   88.139999   23.881533   27.107609\n",
            "2009-03-11   54.583195  49.476112   89.220001   24.248545   27.205910\n",
            "2009-03-12   56.732292  49.586559   91.099998   25.052464   28.325001\n",
            "...                ...        ...         ...         ...         ...\n",
            "2024-02-26  505.989990  71.848480  188.199997  436.549988  251.240005\n",
            "2024-02-27  506.929993  71.738785  188.000000  437.600006  251.940002\n",
            "2024-02-28  506.260010  71.898331  188.339996  435.269989  251.520004\n",
            "2024-02-29  508.079987  72.017998  189.309998  439.000000  252.580002\n",
            "2024-03-01  512.849976  72.320000  192.889999  445.609985  254.899994\n",
            "\n",
            "[3773 rows x 5 columns]\n"
          ]
        },
        {
          "name": "stderr",
          "output_type": "stream",
          "text": [
            "\n"
          ]
        }
      ],
      "source": [
        "adjusted_cp_df = pd.DataFrame()\n",
        "\n",
        "for ticker in tickers:\n",
        "    data = yf.download(ticker, start = startDate, end = endDate)\n",
        "    adjusted_cp_df[ticker] = data['Adj Close']\n",
        "\n",
        "print(adjusted_cp_df)"
      ]
    },
    {
      "cell_type": "markdown",
      "id": "e1e57022-ca53-4ce3-9c75-6bc2aa43673f",
      "metadata": {
        "id": "e1e57022-ca53-4ce3-9c75-6bc2aa43673f"
      },
      "source": [
        "#### Calculating Daily Log retuns"
      ]
    },
    {
      "cell_type": "code",
      "execution_count": null,
      "id": "a3d2d24d-ad15-4754-bd23-62e40c2f24fa",
      "metadata": {
        "id": "a3d2d24d-ad15-4754-bd23-62e40c2f24fa",
        "outputId": "a55497ec-5da8-4ecc-b5c9-d1eb522aad8a"
      },
      "outputs": [
        {
          "name": "stdout",
          "output_type": "stream",
          "text": [
            "                 SPY       BND       GLD       QQQ       VTI\n",
            "Date                                                        \n",
            "2009-03-09 -0.011822 -0.003681 -0.018813 -0.021523 -0.012093\n",
            "2009-03-10  0.057900  0.001053 -0.027197  0.059939  0.061846\n",
            "2009-03-11  0.006491  0.002104  0.012179  0.015251  0.003620\n",
            "2009-03-12  0.038618  0.002230  0.020853  0.032616  0.040311\n",
            "2009-03-13  0.007784 -0.000787  0.002193  0.002438  0.010621\n",
            "...              ...       ...       ...       ...       ...\n",
            "2024-02-26 -0.003669 -0.001803 -0.002229 -0.000527 -0.003020\n",
            "2024-02-27  0.001856 -0.001528 -0.001063  0.002402  0.002782\n",
            "2024-02-28 -0.001323  0.002222  0.001807 -0.005339 -0.001668\n",
            "2024-02-29  0.003588  0.001663  0.005137  0.008533  0.004206\n",
            "2024-03-01  0.009344  0.004185  0.018734  0.014945  0.009143\n",
            "\n",
            "[3772 rows x 5 columns]\n"
          ]
        }
      ],
      "source": [
        "daily_log = np.log(adjusted_cp_df/adjusted_cp_df.shift(1))\n",
        "daily_log  = daily_log.dropna()\n",
        "\n",
        "print(daily_log)"
      ]
    },
    {
      "cell_type": "markdown",
      "id": "e14c1d2e-838f-4289-b679-6dc02703b958",
      "metadata": {
        "id": "e14c1d2e-838f-4289-b679-6dc02703b958"
      },
      "source": [
        "#### Functions For Calculating Portfolio Returns and Expected Deviation"
      ]
    },
    {
      "cell_type": "code",
      "execution_count": null,
      "id": "f8158aaf-73f6-4ae3-903f-34f0673d590e",
      "metadata": {
        "id": "f8158aaf-73f6-4ae3-903f-34f0673d590e"
      },
      "outputs": [],
      "source": [
        "def return_expected(weights, daily_log):\n",
        "    return np.sum(daily_log.mean()*weights)\n",
        "\n",
        "\n",
        "def calculate_sd (weights, cv_matrix):\n",
        "    variance = weights.T @ cv_matrix @ weights\n",
        "    return np.sqrt(variance)"
      ]
    },
    {
      "cell_type": "markdown",
      "id": "66ce7e7f-1753-4a1b-bc8f-4f80d3bd3453",
      "metadata": {
        "id": "66ce7e7f-1753-4a1b-bc8f-4f80d3bd3453"
      },
      "source": [
        "#### Creating a Covariance Matrix"
      ]
    },
    {
      "cell_type": "code",
      "execution_count": null,
      "id": "acc4a53c-88e2-4571-b430-ae1a03a1c5fa",
      "metadata": {
        "id": "acc4a53c-88e2-4571-b430-ae1a03a1c5fa",
        "outputId": "6bab6add-47f3-49a5-a356-331e8f164253"
      },
      "outputs": [
        {
          "name": "stdout",
          "output_type": "stream",
          "text": [
            "              SPY           BND       GLD           QQQ           VTI\n",
            "SPY  1.244105e-04 -3.948832e-07  0.000006  1.347973e-04  1.270218e-04\n",
            "BND -3.948832e-07  9.245981e-06  0.000009  4.885527e-07 -2.160260e-07\n",
            "GLD  6.384992e-06  8.917798e-06  0.000098  6.844613e-06  6.887696e-06\n",
            "QQQ  1.347973e-04  4.885527e-07  0.000007  1.702644e-04  1.379197e-04\n",
            "VTI  1.270218e-04 -2.160260e-07  0.000007  1.379197e-04  1.307833e-04\n"
          ]
        }
      ],
      "source": [
        "cv_matrix = daily_log.cov()\n",
        "print(cv_matrix)"
      ]
    },
    {
      "cell_type": "markdown",
      "id": "c3528535-f327-4db9-b07c-590cb62549d7",
      "metadata": {
        "id": "c3528535-f327-4db9-b07c-590cb62549d7"
      },
      "source": [
        "#### Calculating Portfolio Expected Return and Standard Deviation"
      ]
    },
    {
      "cell_type": "code",
      "execution_count": null,
      "id": "d2b269f2-421f-4ff5-99b3-abac1e3c38f6",
      "metadata": {
        "id": "d2b269f2-421f-4ff5-99b3-abac1e3c38f6"
      },
      "outputs": [],
      "source": [
        "portfolio_value = 1000000\n",
        "weights = np.array([1/len(tickers)]*len(tickers))\n",
        "portfolio_return_expected = return_expected(weights, daily_log)\n",
        "portfolio_sd = calculate_sd (weights, cv_matrix)"
      ]
    },
    {
      "cell_type": "markdown",
      "id": "d6b408fd-299e-40ae-869b-2450c9702399",
      "metadata": {
        "id": "d6b408fd-299e-40ae-869b-2450c9702399"
      },
      "source": [
        "#### Defining Functions for Monte Carlo Simulation"
      ]
    },
    {
      "cell_type": "code",
      "execution_count": null,
      "id": "120d750b-f2aa-4a86-b785-ab356c47fb19",
      "metadata": {
        "id": "120d750b-f2aa-4a86-b785-ab356c47fb19"
      },
      "outputs": [],
      "source": [
        "def random_z_score():\n",
        "    return np.random.normal(0, 1) # mu=0 , sigma =1\n",
        "\n",
        "### Function to calculate scenarioGainLoss\n",
        "days = 20\n",
        "\n",
        "def scenario_gain_loss(portfolio_value, portfolio_sd, z_score, days):\n",
        "    return portfolio_value * portfolio_return_expected * days + portfolio_value * portfolio_sd * z_score * np.sqrt(days)"
      ]
    },
    {
      "cell_type": "markdown",
      "id": "ded3a244-df82-4bcc-b2b2-e49231b0af81",
      "metadata": {
        "id": "ded3a244-df82-4bcc-b2b2-e49231b0af81"
      },
      "source": [
        "#### Running Monte Carlo Simulation"
      ]
    },
    {
      "cell_type": "code",
      "execution_count": null,
      "id": "b73462b9-0ad5-4c98-b4bb-aebd27cf57a0",
      "metadata": {
        "id": "b73462b9-0ad5-4c98-b4bb-aebd27cf57a0"
      },
      "outputs": [],
      "source": [
        "simulations = 10000\n",
        "scenarioReturn = []\n",
        "\n",
        "for i in range(simulations):\n",
        "    z_score = random_z_score()\n",
        "    scenarioReturn.append(scenario_gain_loss(portfolio_value, portfolio_sd, z_score, days))"
      ]
    },
    {
      "cell_type": "markdown",
      "id": "a4be4797-fdb5-4a1f-9e24-cd7e4edfb53b",
      "metadata": {
        "id": "a4be4797-fdb5-4a1f-9e24-cd7e4edfb53b"
      },
      "source": [
        "#### Calculating Value at Risk (VaR)"
      ]
    },
    {
      "cell_type": "code",
      "execution_count": null,
      "id": "2e849d3e-be92-48c2-888d-22d45b71eb4d",
      "metadata": {
        "id": "2e849d3e-be92-48c2-888d-22d45b71eb4d",
        "outputId": "e5375bb6-8da4-48f7-e4d3-f8051ef8bf8f"
      },
      "outputs": [
        {
          "name": "stdout",
          "output_type": "stream",
          "text": [
            "68667.18569730023\n"
          ]
        }
      ],
      "source": [
        "confidence_interval = 0.99\n",
        "VaR = -np.percentile(scenarioReturn, 100 * (1 - confidence_interval))\n",
        "print(VaR)"
      ]
    },
    {
      "cell_type": "markdown",
      "id": "c6a7b95f-3eba-4fa1-aa85-8a6f61570c04",
      "metadata": {
        "id": "c6a7b95f-3eba-4fa1-aa85-8a6f61570c04"
      },
      "source": [
        "#### Plotting the Results"
      ]
    },
    {
      "cell_type": "code",
      "execution_count": null,
      "id": "6e820754-b379-4b2b-b8bc-56a7c273d622",
      "metadata": {
        "id": "6e820754-b379-4b2b-b8bc-56a7c273d622",
        "outputId": "01373e49-17d4-4862-c259-8b09bb1ad104"
      },
      "outputs": [
        {
          "data": {
            "image/png": "[encoded data removed]",
            "text/plain": [
              "<Figure size 640x480 with 1 Axes>"
            ]
          },
          "metadata": {},
          "output_type": "display_data"
        }
      ],
      "source": [
        "plt.hist(scenarioReturn, bins=50, density=True)\n",
        "plt.xlabel('Scenario Gain/Loss ($)')\n",
        "plt.ylabel('Frequency')\n",
        "plt.title(f'Distribution of Portfolio Gain/Loss Over {days} Days')\n",
        "plt.axvline(-VaR, color='r', linestyle='dashed', linewidth=2, label=f'VaR at {confidence_interval:.0%} confidence level')\n",
        "plt.legend()\n",
        "plt.show()"
      ]
    }
  ],
  "metadata": {
    "kernelspec": {
      "display_name": "Python 3 (ipykernel)",
      "language": "python",
      "name": "python3"
    },
    "language_info": {
      "codemirror_mode": {
        "name": "ipython",
        "version": 3
      },
      "file_extension": ".py",
      "mimetype": "text/x-python",
      "name": "python",
      "nbconvert_exporter": "python",
      "pygments_lexer": "ipython3",
      "version": "3.12.2"
    },
    "colab": {
      "provenance": []
    }
  },
  "nbformat": 4,
  "nbformat_minor": 5
}